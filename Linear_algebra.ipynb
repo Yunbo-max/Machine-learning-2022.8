{
  "nbformat": 4,
  "nbformat_minor": 0,
  "metadata": {
    "colab": {
      "provenance": []
    },
    "kernelspec": {
      "name": "python3",
      "display_name": "Python 3"
    },
    "language_info": {
      "name": "python"
    }
  },
  "cells": [
    {
      "cell_type": "code",
      "execution_count": 1,
      "metadata": {
        "colab": {
          "base_uri": "https://localhost:8080/",
          "height": 368
        },
        "id": "O-F50P5QPz3o",
        "outputId": "8b150bb2-8846-4150-ac82-bd7aa769fefb"
      },
      "outputs": [
        {
          "output_type": "stream",
          "name": "stdout",
          "text": [
            "21\n"
          ]
        },
        {
          "output_type": "execute_result",
          "data": {
            "text/plain": [
              "array([[ True,  True,  True],\n",
              "       [ True,  True,  True],\n",
              "       [ True,  True,  True]])"
            ]
          },
          "metadata": {},
          "execution_count": 1
        },
        {
          "output_type": "display_data",
          "data": {
            "text/plain": [
              "<Figure size 432x288 with 1 Axes>"
            ],
            "image/png": "[encoded data removed]"
          },
          "metadata": {
            "needs_background": "light"
          }
        }
      ],
      "source": [
        "from numpy.lib import twodim_base\n",
        "import numpy as np\n",
        "import matplotlib.pyplot as plt\n",
        "import torch\n",
        "import tensorflow as tf\n",
        "\n",
        "t = np.linspace(0,40,100)\n",
        "d_r = 2.5*t\n",
        "d_s = 3*(t-5)\n",
        "\n",
        "fig, ax = plt.subplots()\n",
        "plt.title(\"A Bank Robbere Caught\")\n",
        "plt.xlabel(\"time (in minutes)\")\n",
        "plt.ylabel(\"distance (in km)\")\n",
        "ax.set_xlim([0,40])\n",
        "ax.set_ylim([0,100])\n",
        "ax.plot(t,d_r,c='green')\n",
        "ax.plot(t,d_s,c='brown')\n",
        "plt.axvline(x=30,color='purple',linestyle='--')\n",
        "_ = plt.axhline(y=75,color='purple', linestyle='--')\n",
        "\n",
        "\n",
        "# PyTorch and TensorFlow are the two most popular automatic differentiation libraries\n",
        "\n",
        "# Scalars (is the Rank 0 Tensors) in Base Python\n",
        "\n",
        "x = torch.tensor(25)\n",
        "x.shape\n",
        "\n",
        "y = tf.Variable(21)\n",
        "y.shape\n",
        "print(y.numpy())\n",
        "\n",
        "z = np.array([25,2,5])\n",
        "\n",
        "\n",
        "# Vector Transposition\n",
        "z_t = z.T\n",
        "z_t.shape\n",
        "\n",
        "t = np.zeros(3)\n",
        "\n",
        "# L^2 Norm to calculate the length in the space\n",
        "np.linalg.norm(x)\n",
        "\n",
        "# L^1 Norm \n",
        "np.abs(25) + np.abs(2) + np.abs(5)\n",
        "\n",
        "# Orthogonal Vectors\n",
        "i = np.array([1, 0])\n",
        "j = np.array([0, 1])\n",
        "np.dot(i, j)\n",
        "\n",
        "# Matrices (is Rank 2 Tensors)\n",
        "X = np.array([[25, 2], [5, 26], [3, 7]])\n",
        "\n",
        "\n",
        "#Images (is rank 4 tensors)\n",
        "images_tf = tf.zeros([32, 28, 28, 3])\n",
        "\n",
        "# Hadamard product or simply the element-wise product.\n",
        "\n",
        "\n",
        "# The Dot Product\n",
        "torch.dot(torch.tensor([25, 2, 5.]), torch.tensor([0, 1, 2.]))\n",
        "\n",
        "# matrix multiplication\n",
        "# torch.matmul(A,B)\n",
        "# tf.linalg.matvec(A,B)\n",
        "# np.dot(A,B)\n",
        "\n",
        "# Frobenius Norm-----matrix property is [xigma(x**2)]**(1/2)\n",
        "x = np.array([[1,2],[3,4]])\n",
        "np.linalg.norm(x)\n",
        "\n",
        "# Symmetric Matrices\n",
        "X_sym = np.array([[0, 1, 2], [1, 7, 8], [2, 8, 9]])\n",
        "X_sym.T == X_sym\n",
        "\n",
        "# Identity Matrices\n",
        "I = torch.tensor([[1, 0, 0], [0, 1, 0], [0, 0, 1]])\n",
        "\n",
        "# Matrix Inversion\n",
        "X = np.array([[4, 2], [-5, -3]])\n",
        "Xinv = np.linalg.inv(X)\n",
        "np.dot(Xinv, X)\n",
        "\n",
        "# singular matrix\" error with no matrix inversion\n",
        "\n",
        "# orthogonal matrix\n",
        "# each collomn to calculate the dot and norm between each colomn\n",
        "# K.T=K  or K*K.t = I\n",
        "\n",
        "\n",
        "# Eigendecomposition\n",
        "# 1. Affine transformation or linear transformation\n",
        "\n",
        "# 2. eigenvalue and eigenvectors\n",
        "A = np.array([[-1,4],[2,-2]])\n",
        "lambdas, V = np.linalg.eig(A)\n",
        "\n",
        "# 3. Matrix Determinants\n",
        "N = np.array([[-4, 1], [-8, 2]])\n",
        "np.linalg.det(N)\n",
        "\n",
        "# 4. Eigendecomposition\n",
        "# A = V*[lamda]*V-1\n",
        "# V is the concatenation of all the eigenvectors of A, [lambda] is the diagonal matrix diag\n",
        "A = np.array([[4, 2], [-5, -3]]) \n",
        "lambdas, V = np.linalg.eig(A)\n",
        "Vinv = np.linalg.inv(V)\n",
        "Lambda = np.diag(lambdas)\n",
        "A == np.dot(V, np.dot(Lambda, Vinv))\n",
        "\n",
        "\n",
        "# Sysmetric Matrix\n",
        "# Bercause eigendecomposition involves complex numbers instead of straightforward real numbers.\n",
        "# Thus, In machine learning, however, we are typically working with real symmetric matrices, which can be conveniently and efficiently decomposed into real-only eigenvectors and real-only eigenvalues. If  is a real symmetric matrix then...\n",
        "#  A = Q*[lamda]*Q.T\n",
        "# Q is analogous to  from the previous equation except that it's special because it's an orthogonal matrix.\n",
        "A = np.array([[2, 1], [1, 2]]) \n",
        "#  A is the real sysmetric matrix\n",
        "\n",
        "\n",
        "# Singular Value Decomposition (SVD)\n",
        "# A = U*D*V.T\n",
        "# U is an orthogonal  matrix; its columns are the left-singular vectors of A.\n",
        "# D is an orthogonal  matrix; its columns are the right-singular vectors of .\n",
        "# V is a diagonal  matrix; elements along its diagonal are the singular values of .\n",
        "A = np.array([[-1, 2], [3, -2], [5, 7]])\n",
        "\n",
        "U, d, VT = np.linalg.svd(A)\n",
        "np.diag(d)\n",
        "D = np.concatenate((np.diag(d), [[0, 0]]), axis=0)\n",
        "# D should be the same dimension\n",
        "# SVD and eigendecomposition are closely related to each other: more practical and comprehensive than the special eigenvalue\n",
        "\n",
        "#  Moore-Penrose Pseudoinverse: A new method to replace the special matrix inverse\n",
        "U, d, VT = np.linalg.svd(A)\n",
        "D = np.diag(d)\n",
        "Dinv = np.linalg.inv(D)\n",
        "Dplus = np.concatenate((Dinv, np.array([[0, 0]]).T), axis=1)\n",
        "np.dot(VT.T, np.dot(Dplus, U.T)) == np.linalg.pinv(A)\n",
        "\n",
        "A_p = torch.tensor([[-1, 2], [3, -2], [5, 7.]])\n",
        "torch.pinverse(A_p)\n",
        "\n",
        "# Trace\n",
        "A = np.array([[25, 2], [5, 4]])\n",
        "np.trace(A)\n",
        "\n"
      ]
    },
    {
      "cell_type": "code",
      "source": [],
      "metadata": {
        "id": "IiHDNc1n4ooN"
      },
      "execution_count": null,
      "outputs": []
    },
    {
      "cell_type": "code",
      "source": [],
      "metadata": {
        "id": "02iKqXbk4o3C"
      },
      "execution_count": null,
      "outputs": []
    }
  ]
}