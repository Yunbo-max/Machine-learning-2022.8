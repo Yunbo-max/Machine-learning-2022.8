{
  "nbformat": 4,
  "nbformat_minor": 0,
  "metadata": {
    "colab": {
      "provenance": []
    },
    "kernelspec": {
      "name": "python3",
      "display_name": "Python 3"
    },
    "language_info": {
      "name": "python"
    }
  },
  "cells": [
    {
      "cell_type": "code",
      "execution_count": 2,
      "metadata": {
        "colab": {
          "base_uri": "https://localhost:8080/"
        },
        "id": "_c3TKv7e6RBZ",
        "outputId": "e5ed231b-6507-490c-d866-c2634ef15266"
      },
      "outputs": [
        {
          "output_type": "execute_result",
          "data": {
            "text/plain": [
              "0.75"
            ]
          },
          "metadata": {},
          "execution_count": 2
        }
      ],
      "source": [
        "# Calculus\n",
        "# computing derivatives via differentiation is the basis of optimizing most machine learning algorithms,including those used in deep learning such as backpropagation and stochastic gradient descent.\n",
        "\n",
        "\n",
        "# Automatic Differentiation\n",
        "import torch\n",
        "x = torch.tensor(5.0)\n",
        "x.requires_grad_()\n",
        "y = x**2\n",
        "y.backward()\n",
        "x.grad\n",
        "\n",
        "\n",
        "from scipy.integrate import quad\n",
        "from sklearn.metrics import auc\n",
        "# Integrals\n",
        "def g(x):\n",
        "    return x/2\n",
        "\n",
        "quad(g, 1, 2) \n",
        "\n",
        "# Area Under the ROC Curve\n",
        "# From the slides, the （x,y） coordinates of our hot dog-detecting ROC curve are:\n",
        "xs = [0, 0,   0.5, 0.5, 1]\n",
        "ys = [0, 0.5, 0.5, 1,   1]\n",
        "auc(xs, ys)"
      ]
    }
  ]
}